{
  "nbformat": 4,
  "nbformat_minor": 0,
  "metadata": {
    "colab": {
      "provenance": []
    },
    "kernelspec": {
      "name": "python3",
      "display_name": "Python 3"
    },
    "language_info": {
      "name": "python"
    }
  },
  "cells": [
    {
      "cell_type": "markdown",
      "source": [
        "# Prime Numbers"
      ],
      "metadata": {
        "id": "xt_QqRjXXj-B"
      }
    },
    {
      "cell_type": "code",
      "execution_count": 1,
      "metadata": {
        "id": "jQs7kNV9Xd0E"
      },
      "outputs": [],
      "source": [
        "# Function of prime number\n",
        "def is_prime(n):\n",
        "  if n<=1:\n",
        "    return False\n",
        "  for i in range(2, int(n**0.5)+1):\n",
        "    if n % i == 0:\n",
        "      return False\n",
        "  return True"
      ]
    },
    {
      "cell_type": "code",
      "source": [
        "#user input\n",
        "num = int(input('Enter a number to check if it is prime:'))\n",
        "if is_prime(num):\n",
        "  print(f'{num} is a prime number')\n",
        "else:\n",
        "  print(f'{num} is not a prime number')"
      ],
      "metadata": {
        "colab": {
          "base_uri": "https://localhost:8080/"
        },
        "id": "JXuBIDAnYGm-",
        "outputId": "0601a095-8344-4e43-9a81-59e1ffda5aed"
      },
      "execution_count": 2,
      "outputs": [
        {
          "output_type": "stream",
          "name": "stdout",
          "text": [
            "Enter a number to check if it is prime:3\n",
            "3 is a prime number\n"
          ]
        }
      ]
    },
    {
      "cell_type": "markdown",
      "source": [
        "# Product of Random Numbers"
      ],
      "metadata": {
        "id": "d2HDnFCcYf1e"
      }
    },
    {
      "cell_type": "code",
      "source": [
        "# import library\n",
        "import random # to generate random numbers"
      ],
      "metadata": {
        "id": "DvwcZOQHYicf"
      },
      "execution_count": 3,
      "outputs": []
    },
    {
      "cell_type": "code",
      "source": [
        "# genrate 2 random integers between 1 and 10\n",
        "num1 = random.randint(1,10)\n",
        "num2 = random.randint(1,10)\n",
        "\n",
        "# ask user to calculate\n",
        "user_input = int(input(f'What is {num1} times {num2} ?'))\n",
        "\n",
        "#check\n",
        "if user_input == num1 * num2:\n",
        "  print('Correct!')\n",
        "else:\n",
        "  print(f'Incorrect. The correct answer is {num1 * num2}')"
      ],
      "metadata": {
        "colab": {
          "base_uri": "https://localhost:8080/"
        },
        "id": "X-xZNBe4Y0do",
        "outputId": "9a5a1f63-a136-4ed7-81ee-f622fbf441bb"
      },
      "execution_count": 12,
      "outputs": [
        {
          "output_type": "stream",
          "name": "stdout",
          "text": [
            "What is 3 times 7 ?30\n",
            "Incorrect. The correct answer is 21\n"
          ]
        }
      ]
    },
    {
      "cell_type": "markdown",
      "source": [
        "# Squares of Even or Odd Numbers (Odd Numbers Chosen)"
      ],
      "metadata": {
        "id": "67Bw30vKZsRz"
      }
    },
    {
      "cell_type": "code",
      "source": [
        "# choice : ood numbers between 100 and 200\n",
        "print('Square of odd numbers between 100 and 200')\n",
        "\n",
        "for num in range(101, 201, 2):\n",
        "    print(f\"{num}^2 = {num**2}\")"
      ],
      "metadata": {
        "colab": {
          "base_uri": "https://localhost:8080/"
        },
        "id": "bAxtRpEYZB4o",
        "outputId": "e1a24741-25dc-4f14-a54c-1a2dfe3c6f2a"
      },
      "execution_count": 14,
      "outputs": [
        {
          "output_type": "stream",
          "name": "stdout",
          "text": [
            "Square of odd numbers between 100 and 200\n",
            "101^2 = 10201\n",
            "103^2 = 10609\n",
            "105^2 = 11025\n",
            "107^2 = 11449\n",
            "109^2 = 11881\n",
            "111^2 = 12321\n",
            "113^2 = 12769\n",
            "115^2 = 13225\n",
            "117^2 = 13689\n",
            "119^2 = 14161\n",
            "121^2 = 14641\n",
            "123^2 = 15129\n",
            "125^2 = 15625\n",
            "127^2 = 16129\n",
            "129^2 = 16641\n",
            "131^2 = 17161\n",
            "133^2 = 17689\n",
            "135^2 = 18225\n",
            "137^2 = 18769\n",
            "139^2 = 19321\n",
            "141^2 = 19881\n",
            "143^2 = 20449\n",
            "145^2 = 21025\n",
            "147^2 = 21609\n",
            "149^2 = 22201\n",
            "151^2 = 22801\n",
            "153^2 = 23409\n",
            "155^2 = 24025\n",
            "157^2 = 24649\n",
            "159^2 = 25281\n",
            "161^2 = 25921\n",
            "163^2 = 26569\n",
            "165^2 = 27225\n",
            "167^2 = 27889\n",
            "169^2 = 28561\n",
            "171^2 = 29241\n",
            "173^2 = 29929\n",
            "175^2 = 30625\n",
            "177^2 = 31329\n",
            "179^2 = 32041\n",
            "181^2 = 32761\n",
            "183^2 = 33489\n",
            "185^2 = 34225\n",
            "187^2 = 34969\n",
            "189^2 = 35721\n",
            "191^2 = 36481\n",
            "193^2 = 37249\n",
            "195^2 = 38025\n",
            "197^2 = 38809\n",
            "199^2 = 39601\n"
          ]
        }
      ]
    },
    {
      "cell_type": "markdown",
      "source": [
        "# Word Counter"
      ],
      "metadata": {
        "id": "deMI5XHNZroo"
      }
    },
    {
      "cell_type": "code",
      "source": [
        "# library\n",
        "from collections import Counter"
      ],
      "metadata": {
        "id": "VIEP4iB4a6l8"
      },
      "execution_count": 15,
      "outputs": []
    },
    {
      "cell_type": "code",
      "source": [
        "#sample input\n",
        "input_text = 'This is a sample text. This text will be used to demonstrate the word counter.'\n",
        "\n",
        "#split words\n",
        "words = input_text.split()\n",
        "\n",
        "#count words\n",
        "word_count = Counter(words)\n",
        "\n",
        "#print\n",
        "for word, count in word_count.items():\n",
        "  print(f'{word}: {count}')"
      ],
      "metadata": {
        "colab": {
          "base_uri": "https://localhost:8080/"
        },
        "id": "5TW0IP0pbAr2",
        "outputId": "0d883892-8f4d-4192-e235-99a365049e81"
      },
      "execution_count": 16,
      "outputs": [
        {
          "output_type": "stream",
          "name": "stdout",
          "text": [
            "This: 2\n",
            "is: 1\n",
            "a: 1\n",
            "sample: 1\n",
            "text.: 1\n",
            "text: 1\n",
            "will: 1\n",
            "be: 1\n",
            "used: 1\n",
            "to: 1\n",
            "demonstrate: 1\n",
            "the: 1\n",
            "word: 1\n",
            "counter.: 1\n"
          ]
        }
      ]
    },
    {
      "cell_type": "markdown",
      "source": [
        "# Check for Palindrome"
      ],
      "metadata": {
        "id": "OoLdpGvQbqJg"
      }
    },
    {
      "cell_type": "code",
      "source": [
        "# library\n",
        "import re"
      ],
      "metadata": {
        "id": "DXkdvzUHbtxq"
      },
      "execution_count": 17,
      "outputs": []
    },
    {
      "cell_type": "code",
      "source": [
        "#function\n",
        "def is_palindrome(s):\n",
        "  clean = re.sub(r'[^A-Za-z0-9]','',s).lower() # convert to lower\n",
        "  return clean == clean[::-1]\n",
        "\n",
        "#test\n",
        "user_input = input('Enter a string to check if it is a palindrome:')\n",
        "if is_palindrome(user_input):\n",
        "  print('It is a palindrome')\n",
        "else:\n",
        "  print('It is not a palindrome')"
      ],
      "metadata": {
        "colab": {
          "base_uri": "https://localhost:8080/"
        },
        "id": "Hj2TvTsDb71S",
        "outputId": "c86802f7-930b-45e4-9a3f-0488a69178c1"
      },
      "execution_count": 20,
      "outputs": [
        {
          "output_type": "stream",
          "name": "stdout",
          "text": [
            "Enter a string to check if it is a palindrome:sorry\n",
            "It is not a palindrome\n"
          ]
        }
      ]
    },
    {
      "cell_type": "code",
      "source": [],
      "metadata": {
        "id": "Inzzw7VZcvgE"
      },
      "execution_count": null,
      "outputs": []
    }
  ]
}