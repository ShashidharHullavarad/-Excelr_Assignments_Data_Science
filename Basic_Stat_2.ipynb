{
  "nbformat": 4,
  "nbformat_minor": 0,
  "metadata": {
    "colab": {
      "provenance": []
    },
    "kernelspec": {
      "name": "python3",
      "display_name": "Python 3"
    },
    "language_info": {
      "name": "python"
    }
  },
  "cells": [
    {
      "cell_type": "markdown",
      "source": [
        "# a. Build 99% Confidence Interval Using Sample Standard Deviation"
      ],
      "metadata": {
        "id": "I8H4zyMNRuzH"
      }
    },
    {
      "cell_type": "code",
      "source": [
        "#import library\n",
        "import numpy as np\n",
        "import pandas as pd\n",
        "from scipy import stats #(for t and z critical values)"
      ],
      "metadata": {
        "id": "g8d3pLqLPI9Y"
      },
      "execution_count": 2,
      "outputs": []
    },
    {
      "cell_type": "code",
      "source": [
        "#given data\n",
        "durability = [1.13, 1.55, 1.43, 0.92, 1.25, 1.36, 1.32, 0.85, 1.07, 1.48, 1.20, 1.33, 1.18, 1.22, 1.29]"
      ],
      "metadata": {
        "id": "x169o2sBPhWz"
      },
      "execution_count": 3,
      "outputs": []
    },
    {
      "cell_type": "code",
      "source": [
        "#calculate basic stats\n",
        "n = len(durability) # Sample Size\n",
        "mean = np.mean(durability) # Sample mean\n",
        "std_dev = np.std(durability, ddof=1) # Sample std dev\n",
        "df = n - 1 # degree of freedom for t distribution"
      ],
      "metadata": {
        "id": "3SrK-y7MP2i-"
      },
      "execution_count": 4,
      "outputs": []
    },
    {
      "cell_type": "code",
      "source": [
        "#Confidence level\n",
        "confidence_level = 0.99"
      ],
      "metadata": {
        "id": "YJC713heQ86W"
      },
      "execution_count": 7,
      "outputs": []
    },
    {
      "cell_type": "code",
      "source": [
        "#to obtain t critical value (t distribution)\n",
        "t_critical = stats.t.ppf((1 + confidence_level)/2, df)\n",
        "t_critical"
      ],
      "metadata": {
        "colab": {
          "base_uri": "https://localhost:8080/"
        },
        "id": "5gnFYMI4REHD",
        "outputId": "afce2270-744d-416c-c32d-e4a65257ab5f"
      },
      "execution_count": 6,
      "outputs": [
        {
          "output_type": "execute_result",
          "data": {
            "text/plain": [
              "np.float64(2.976842734370834)"
            ]
          },
          "metadata": {},
          "execution_count": 6
        }
      ]
    },
    {
      "cell_type": "code",
      "source": [
        "# to calculate margin error\n",
        "margin_error = t_critical * (std_dev / np.sqrt(n))\n",
        "margin_error"
      ],
      "metadata": {
        "colab": {
          "base_uri": "https://localhost:8080/"
        },
        "id": "8-4eK6fKRjxH",
        "outputId": "4ff5f68e-6288-44f7-804c-fa0c2b70c879"
      },
      "execution_count": 8,
      "outputs": [
        {
          "output_type": "execute_result",
          "data": {
            "text/plain": [
              "np.float64(0.14846932822817596)"
            ]
          },
          "metadata": {},
          "execution_count": 8
        }
      ]
    },
    {
      "cell_type": "code",
      "source": [
        "# COnfidence Interval\n",
        "LB = mean - margin_error # lower bound\n",
        "UB = mean + margin_error #upper bound"
      ],
      "metadata": {
        "id": "VvYrYPlBRqnU"
      },
      "execution_count": 9,
      "outputs": []
    },
    {
      "cell_type": "code",
      "source": [
        "# Results\n",
        "print('Sample Mean:',round(mean,4))\n",
        "print('Sample Std Dev:',round(std_dev,4))\n",
        "print('99% Confidence Interval:')\n",
        "print(f\"({LB:.4f}, {UB:.4f})\")"
      ],
      "metadata": {
        "colab": {
          "base_uri": "https://localhost:8080/"
        },
        "id": "8yb17pVzR-89",
        "outputId": "2fca1175-0188-40cd-8193-034527040845"
      },
      "execution_count": 13,
      "outputs": [
        {
          "output_type": "stream",
          "name": "stdout",
          "text": [
            "Sample Mean: 1.2387\n",
            "Sample Std Dev: 0.1932\n",
            "99% Confidence Interval:\n",
            "(1.0902, 1.3871)\n"
          ]
        }
      ]
    },
    {
      "cell_type": "markdown",
      "source": [
        "# b. Build 99% Confidence Interval Using Known Population Standard Deviation"
      ],
      "metadata": {
        "id": "CKGjYS-LTZLb"
      }
    },
    {
      "cell_type": "code",
      "source": [
        "# given population standard deviation\n",
        "pop_std_dev = 0.2"
      ],
      "metadata": {
        "id": "RY8lA5udTd9m"
      },
      "execution_count": 15,
      "outputs": []
    },
    {
      "cell_type": "code",
      "source": [
        "# to calculate z critical value\n",
        "z_critical = stats.norm.ppf((1 + confidence_level)/2)\n",
        "z_critical"
      ],
      "metadata": {
        "colab": {
          "base_uri": "https://localhost:8080/"
        },
        "id": "nvoSFo3GTz7C",
        "outputId": "558c12bb-3300-4304-92a4-bd935b19318e"
      },
      "execution_count": 16,
      "outputs": [
        {
          "output_type": "execute_result",
          "data": {
            "text/plain": [
              "np.float64(2.5758293035489004)"
            ]
          },
          "metadata": {},
          "execution_count": 16
        }
      ]
    },
    {
      "cell_type": "code",
      "source": [
        "# to calculate margin error using population std dev\n",
        "margin_error_z = z_critical * (pop_std_dev / np.sqrt(n))\n",
        "margin_error_z"
      ],
      "metadata": {
        "colab": {
          "base_uri": "https://localhost:8080/"
        },
        "id": "Wbh6HgFeT8jT",
        "outputId": "ec7fe0bd-b800-4700-9928-83e0a360fd4b"
      },
      "execution_count": 18,
      "outputs": [
        {
          "output_type": "execute_result",
          "data": {
            "text/plain": [
              "np.float64(0.13301525327090588)"
            ]
          },
          "metadata": {},
          "execution_count": 18
        }
      ]
    },
    {
      "cell_type": "code",
      "source": [
        "# COnfidence Interval\n",
        "LB_z = mean - margin_error_z # lower bound\n",
        "UB_z = mean + margin_error_z #upper bound"
      ],
      "metadata": {
        "id": "640pE2l5UOdd"
      },
      "execution_count": 19,
      "outputs": []
    },
    {
      "cell_type": "code",
      "source": [
        "print(\"99% Confidence Interval (using population std dev):\")\n",
        "print(f\"({LB_z:.4f}, {UB_z:.4f})\")"
      ],
      "metadata": {
        "colab": {
          "base_uri": "https://localhost:8080/"
        },
        "id": "n3nhoRPuUjBL",
        "outputId": "1b127389-edea-4af7-bce0-9f94ccb66ce7"
      },
      "execution_count": 20,
      "outputs": [
        {
          "output_type": "stream",
          "name": "stdout",
          "text": [
            "99% Confidence Interval (using population std dev):\n",
            "(1.1057, 1.3717)\n"
          ]
        }
      ]
    }
  ]
}