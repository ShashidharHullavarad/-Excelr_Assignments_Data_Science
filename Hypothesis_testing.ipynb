{
  "nbformat": 4,
  "nbformat_minor": 0,
  "metadata": {
    "colab": {
      "provenance": []
    },
    "kernelspec": {
      "name": "python3",
      "display_name": "Python 3"
    },
    "language_info": {
      "name": "python"
    }
  },
  "cells": [
    {
      "cell_type": "markdown",
      "source": [
        "# Hypotheses Testing"
      ],
      "metadata": {
        "id": "haaLZbZwuY20"
      }
    },
    {
      "cell_type": "markdown",
      "source": [
        "1. Hypotheses Statement"
      ],
      "metadata": {
        "id": "mYsJ9eVLuXAf"
      }
    },
    {
      "cell_type": "code",
      "execution_count": null,
      "metadata": {
        "id": "TBvAAxdpuGIM"
      },
      "outputs": [],
      "source": [
        "# Null Hypothesis (H0):The actual mean weekly cost is less than or equal to the model prediction.\n",
        "# Alternative Hypothesis (H1):The actual mean weekly cost is greater than the model prediction."
      ]
    },
    {
      "cell_type": "markdown",
      "source": [
        "2. Calculate the Test Statistic"
      ],
      "metadata": {
        "id": "xFY-vvhou8gM"
      }
    },
    {
      "cell_type": "code",
      "source": [
        "# Given Data\n",
        "# Sample mean = 3050\n",
        "# Theoretical mean = 1000 + 5 * 600 = 4000\n",
        "# Population std Dev = 5 * 25 = 125\n",
        "# Sample Size = 25\n",
        "\n",
        "\n",
        "# import library\n",
        "import pandas as pd\n",
        "import numpy as np\n",
        "from scipy.stats import norm"
      ],
      "metadata": {
        "id": "lCSiCGuUu7z9"
      },
      "execution_count": 4,
      "outputs": []
    },
    {
      "cell_type": "code",
      "source": [
        "# calculation\n",
        "Sample_mean = 3050\n",
        "x_mean = 4000\n",
        "sigma = 125\n",
        "n = 25\n",
        "\n",
        "z_stat = (Sample_mean - x_mean) / (sigma / np.sqrt(n))\n",
        "print('Z-Statistic',round(z_stat,4))"
      ],
      "metadata": {
        "colab": {
          "base_uri": "https://localhost:8080/"
        },
        "id": "8vnEuALkv5xY",
        "outputId": "ea93e292-c674-4176-a6cd-2e4a57dbea41"
      },
      "execution_count": 5,
      "outputs": [
        {
          "output_type": "stream",
          "name": "stdout",
          "text": [
            "Z-Statistic -38.0\n"
          ]
        }
      ]
    },
    {
      "cell_type": "markdown",
      "source": [
        "3. Determine the Critical Value"
      ],
      "metadata": {
        "id": "nbhe66tKw9xj"
      }
    },
    {
      "cell_type": "code",
      "source": [
        "# alpha = 0.05\n",
        "z_crit = norm.ppf(1-0.05)\n",
        "print('Critical Value',round(z_crit,4))"
      ],
      "metadata": {
        "colab": {
          "base_uri": "https://localhost:8080/"
        },
        "id": "XIIOJT7uw16T",
        "outputId": "5732df5c-a3e6-438f-b28f-db88a432cb35"
      },
      "execution_count": 6,
      "outputs": [
        {
          "output_type": "stream",
          "name": "stdout",
          "text": [
            "Critical Value 1.6449\n"
          ]
        }
      ]
    },
    {
      "cell_type": "markdown",
      "source": [
        "4. Make a Decision"
      ],
      "metadata": {
        "id": "-zBwb66XxUYT"
      }
    },
    {
      "cell_type": "code",
      "source": [
        "# z_stat = -38.0 and z_crit = 1.6449\n",
        "# z_stat is very less than z_crit\n",
        "# we fail to reject h0"
      ],
      "metadata": {
        "id": "-Ml0vvl9xKWH"
      },
      "execution_count": 8,
      "outputs": []
    },
    {
      "cell_type": "code",
      "source": [
        "decision = \"Reject H0\" if z_stat > z_crit else \"Fail to Reject H0\"\n",
        "print(\"Decision:\", decision)"
      ],
      "metadata": {
        "colab": {
          "base_uri": "https://localhost:8080/"
        },
        "id": "fnZ0NHZUxiO7",
        "outputId": "84d97397-4280-448c-bcb9-6d312083f388"
      },
      "execution_count": 9,
      "outputs": [
        {
          "output_type": "stream",
          "name": "stdout",
          "text": [
            "Decision: Fail to Reject H0\n"
          ]
        }
      ]
    },
    {
      "cell_type": "code",
      "source": [],
      "metadata": {
        "id": "C7Uq33CJx4D0"
      },
      "execution_count": null,
      "outputs": []
    }
  ]
}